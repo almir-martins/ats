{
 "cells": [
  {
   "attachments": {},
   "cell_type": "markdown",
   "metadata": {},
   "source": [
    "# Estrutura\n",
    "\n",
    "### Painel\n",
    "<ol>\n",
    "    <li>Conexão com o painel</li>\n",
    "    <li>Leitura dos dados</li>\n",
    "    <li>Formatação e limpeza dos dados</li>\n",
    "</ol>\n",
    "\n",
    "### Banco de dados\n",
    "<ol>\n",
    "    <li>Conexão com o banco de dados</li>\n",
    "    <li>Gravação dos dados</li>\n",
    "</ol>\n",
    "\n",
    "### Envio para nuvem\n",
    "<ol>\n",
    "    <li>Conexão com o banco de dados</li>\n",
    "    <li>Recuperar os dados</li>\n",
    "    <li>Formatação dos dados</li>\n",
    "    <li>Encaminhamento para nuvem</li>\n",
    "</ol>\n",
    "\n",
    "### Estrutura de nuvem\n",
    "<ol>\n",
    "    <li>Criar nuvem</li>\n",
    "    <li>Iniciar nuvem</li>\n",
    "    <li>Recuperar os dados da nuvem</li>\n",
    "    <li>Plotar</li>\n",
    "</ol>"
   ]
  },
  {
   "cell_type": "code",
   "execution_count": 43,
   "metadata": {},
   "outputs": [],
   "source": [
    "# imports\n",
    "import requests\n",
    "import random\n",
    "import time\n",
    "import pandas as pd\n",
    "from bs4 import BeautifulSoup"
   ]
  },
  {
   "attachments": {},
   "cell_type": "markdown",
   "metadata": {},
   "source": [
    "## Painel"
   ]
  },
  {
   "cell_type": "code",
   "execution_count": null,
   "metadata": {},
   "outputs": [],
   "source": [
    "def conecta_painel(args):\n",
    "    pass"
   ]
  },
  {
   "cell_type": "code",
   "execution_count": 60,
   "metadata": {},
   "outputs": [
    {
     "data": {
      "text/html": [
       "<div>\n",
       "<style scoped>\n",
       "    .dataframe tbody tr th:only-of-type {\n",
       "        vertical-align: middle;\n",
       "    }\n",
       "\n",
       "    .dataframe tbody tr th {\n",
       "        vertical-align: top;\n",
       "    }\n",
       "\n",
       "    .dataframe thead th {\n",
       "        text-align: right;\n",
       "    }\n",
       "</style>\n",
       "<table border=\"1\" class=\"dataframe\">\n",
       "  <thead>\n",
       "    <tr style=\"text-align: right;\">\n",
       "      <th></th>\n",
       "      <th>Passo Fundo (RS)</th>\n",
       "      <th>Pedro Afonso (TO)</th>\n",
       "      <th>Cascavel (PR)</th>\n",
       "      <th>Rio Verde (GO)</th>\n",
       "      <th>Dourados (MS)</th>\n",
       "      <th>Bebedouro (SP)</th>\n",
       "      <th>Balsas (MA)</th>\n",
       "      <th>Rondonópólis (MT)</th>\n",
       "    </tr>\n",
       "  </thead>\n",
       "  <tbody>\n",
       "    <tr>\n",
       "      <th>18:51:23</th>\n",
       "      <td>158.0</td>\n",
       "      <td>98.0</td>\n",
       "      <td>174.0</td>\n",
       "      <td>138.0</td>\n",
       "      <td>184.0</td>\n",
       "      <td>202.0</td>\n",
       "      <td>179.5</td>\n",
       "      <td>165.0</td>\n",
       "    </tr>\n",
       "    <tr>\n",
       "      <th>18:51:23</th>\n",
       "      <td>167.0</td>\n",
       "      <td>109.0</td>\n",
       "      <td>164.0</td>\n",
       "      <td>169.0</td>\n",
       "      <td>149.0</td>\n",
       "      <td>208.0</td>\n",
       "      <td>137.5</td>\n",
       "      <td>131.0</td>\n",
       "    </tr>\n",
       "    <tr>\n",
       "      <th>18:51:25</th>\n",
       "      <td>205.0</td>\n",
       "      <td>145.0</td>\n",
       "      <td>136.0</td>\n",
       "      <td>189.0</td>\n",
       "      <td>101.0</td>\n",
       "      <td>174.0</td>\n",
       "      <td>142.5</td>\n",
       "      <td>130.0</td>\n",
       "    </tr>\n",
       "    <tr>\n",
       "      <th>18:51:26</th>\n",
       "      <td>150.0</td>\n",
       "      <td>176.0</td>\n",
       "      <td>106.0</td>\n",
       "      <td>161.0</td>\n",
       "      <td>194.0</td>\n",
       "      <td>116.0</td>\n",
       "      <td>156.5</td>\n",
       "      <td>133.0</td>\n",
       "    </tr>\n",
       "    <tr>\n",
       "      <th>18:51:27</th>\n",
       "      <td>196.0</td>\n",
       "      <td>162.0</td>\n",
       "      <td>179.0</td>\n",
       "      <td>127.0</td>\n",
       "      <td>191.0</td>\n",
       "      <td>171.0</td>\n",
       "      <td>109.5</td>\n",
       "      <td>165.0</td>\n",
       "    </tr>\n",
       "  </tbody>\n",
       "</table>\n",
       "</div>"
      ],
      "text/plain": [
       "          Passo Fundo (RS)  Pedro Afonso (TO)  Cascavel (PR)  Rio Verde (GO)  \\\n",
       "18:51:23             158.0               98.0          174.0           138.0   \n",
       "18:51:23             167.0              109.0          164.0           169.0   \n",
       "18:51:25             205.0              145.0          136.0           189.0   \n",
       "18:51:26             150.0              176.0          106.0           161.0   \n",
       "18:51:27             196.0              162.0          179.0           127.0   \n",
       "\n",
       "          Dourados (MS)  Bebedouro (SP)  Balsas (MA)  Rondonópólis (MT)  \n",
       "18:51:23          184.0           202.0        179.5              165.0  \n",
       "18:51:23          149.0           208.0        137.5              131.0  \n",
       "18:51:25          101.0           174.0        142.5              130.0  \n",
       "18:51:26          194.0           116.0        156.5              133.0  \n",
       "18:51:27          191.0           171.0        109.5              165.0  "
      ]
     },
     "execution_count": 60,
     "metadata": {},
     "output_type": "execute_result"
    }
   ],
   "source": [
    "def le_dados_painel():\n",
    "    headers = {'User-Agent': 'Mozilla/5.0 (Windows NT 10.0; Win64; x64; rv:109.0) Gecko/20100101 Firefox/110.0'}\n",
    "    \n",
    "    url = 'https://www.horariodebrasilia.org/'\n",
    "    url2 = 'https://www.canalrural.com.br/cotacao/soja/'\n",
    "\n",
    "    hora_site = requests.get(url, headers=headers)\n",
    "    soup_hora = BeautifulSoup(hora_site.content, 'html.parser')\n",
    "    hora = soup_hora.find('p', id='relogio')\n",
    "\n",
    "    preco_site = requests.get(url2, headers=headers)\n",
    "    soup_preco = BeautifulSoup(preco_site.content, 'html.parser')\n",
    "\n",
    "    tbody = soup_preco.find('tbody')\n",
    "\n",
    "    colunas = list()\n",
    "    linhas = list()\n",
    "\n",
    "    for tr in tbody.find_all('tr'):\n",
    "        td = tr.find_all('td')[0].text\n",
    "        colunas.append(td)\n",
    "\n",
    "    for tr in tbody.find_all('tr'):\n",
    "        td = tr.find_all('td')[1].text\n",
    "        td = float(td) + random.randint(-50, 50)\n",
    "        linhas.append(td)\n",
    "    linhas = [linhas]\n",
    "\n",
    "    dataframe = pd.DataFrame(linhas, columns=colunas, index=hora)\n",
    "\n",
    "    return dataframe\n",
    "    \n",
    "df = le_dados_painel()   \n",
    "for i in range(5):\n",
    "    df2 = le_dados_painel()\n",
    "    df = pd.concat([df, df2])\n",
    "    time.sleep(1)\n",
    "df.head()"
   ]
  },
  {
   "cell_type": "code",
   "execution_count": null,
   "metadata": {},
   "outputs": [],
   "source": [
    "def formata_dados_painel(args):\n",
    "    pass"
   ]
  },
  {
   "attachments": {},
   "cell_type": "markdown",
   "metadata": {},
   "source": [
    "## Banco de dados"
   ]
  },
  {
   "cell_type": "code",
   "execution_count": null,
   "metadata": {},
   "outputs": [],
   "source": [
    "def create_database(args):\n",
    "    pass"
   ]
  },
  {
   "cell_type": "code",
   "execution_count": null,
   "metadata": {},
   "outputs": [],
   "source": [
    "def create_table(args):\n",
    "    pass"
   ]
  },
  {
   "cell_type": "code",
   "execution_count": null,
   "metadata": {},
   "outputs": [],
   "source": [
    "def db_connection(args):\n",
    "    pass"
   ]
  },
  {
   "cell_type": "code",
   "execution_count": null,
   "metadata": {},
   "outputs": [],
   "source": [
    "def insert_db(args):\n",
    "    pass"
   ]
  },
  {
   "cell_type": "code",
   "execution_count": null,
   "metadata": {},
   "outputs": [],
   "source": [
    "def get_data_db(args):\n",
    "    pass"
   ]
  },
  {
   "attachments": {},
   "cell_type": "markdown",
   "metadata": {},
   "source": [
    "## Nuvem"
   ]
  },
  {
   "cell_type": "code",
   "execution_count": null,
   "metadata": {},
   "outputs": [],
   "source": [
    "# Criar páginas streamlit"
   ]
  }
 ],
 "metadata": {
  "language_info": {
   "name": "python"
  },
  "orig_nbformat": 4
 },
 "nbformat": 4,
 "nbformat_minor": 2
}
