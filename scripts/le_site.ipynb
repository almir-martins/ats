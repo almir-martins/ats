{
 "cells": [
  {
   "cell_type": "code",
   "execution_count": 1,
   "metadata": {},
   "outputs": [
    {
     "name": "stdout",
     "output_type": "stream",
     "text": [
      "00:20:02\n",
      "00:20:03\n",
      "00:20:04\n",
      "00:20:05\n",
      "00:20:06\n"
     ]
    }
   ],
   "source": [
    "import requests\n",
    "import time\n",
    "from bs4 import BeautifulSoup\n",
    "\n",
    "url = 'https://www.horariodebrasilia.org/'\n",
    "headers = {'User-Agent': 'Mozilla/5.0 (Windows NT 10.0; Win64; x64; rv:109.0) Gecko/20100101 Firefox/110.0'}\n",
    "\n",
    "for i in range(5):\n",
    "    response = requests.get(url, headers=headers).content\n",
    "    soup = BeautifulSoup(response, 'html.parser')\n",
    "\n",
    "    hora = soup.find('p', id='relogio')\n",
    "    print(hora.text)\n",
    "    time.sleep(1)\n",
    "\n",
    "\n",
    "\n",
    "    # print(soup.prettify())"
   ]
  }
 ],
 "metadata": {
  "kernelspec": {
   "display_name": "quant",
   "language": "python",
   "name": "python3"
  },
  "language_info": {
   "codemirror_mode": {
    "name": "ipython",
    "version": 3
   },
   "file_extension": ".py",
   "mimetype": "text/x-python",
   "name": "python",
   "nbconvert_exporter": "python",
   "pygments_lexer": "ipython3",
   "version": "3.10.9"
  },
  "orig_nbformat": 4
 },
 "nbformat": 4,
 "nbformat_minor": 2
}
